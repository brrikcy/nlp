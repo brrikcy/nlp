{
  "nbformat": 4,
  "nbformat_minor": 0,
  "metadata": {
    "colab": {
      "provenance": [],
      "include_colab_link": true
    },
    "kernelspec": {
      "name": "python3",
      "display_name": "Python 3"
    },
    "language_info": {
      "name": "python"
    }
  },
  "cells": [
    {
      "cell_type": "markdown",
      "metadata": {
        "id": "view-in-github",
        "colab_type": "text"
      },
      "source": [
        "<a href=\"https://colab.research.google.com/github/brrikcy/nlp/blob/main/tokenization.ipynb\" target=\"_parent\"><img src=\"https://colab.research.google.com/assets/colab-badge.svg\" alt=\"Open In Colab\"/></a>"
      ]
    },
    {
      "cell_type": "code",
      "execution_count": null,
      "metadata": {
        "id": "Qy4TdpUrVPk3"
      },
      "outputs": [],
      "source": [
        "import nltk\n",
        "from nltk.corpus import stopwords\n",
        "from nltk.tokenize import word_tokenize"
      ]
    },
    {
      "cell_type": "code",
      "source": [
        "# Download required NLTK data\n",
        "nltk.download('punkt')\n",
        "nltk.download('stopwords')"
      ],
      "metadata": {
        "colab": {
          "base_uri": "https://localhost:8080/"
        },
        "id": "R0Rh5NbwXAu-",
        "outputId": "de3ceb0a-e95c-4356-8069-ea65912bd02d"
      },
      "execution_count": null,
      "outputs": [
        {
          "output_type": "stream",
          "name": "stderr",
          "text": [
            "[nltk_data] Downloading package punkt to /root/nltk_data...\n",
            "[nltk_data]   Package punkt is already up-to-date!\n",
            "[nltk_data] Downloading package stopwords to /root/nltk_data...\n",
            "[nltk_data]   Package stopwords is already up-to-date!\n"
          ]
        },
        {
          "output_type": "execute_result",
          "data": {
            "text/plain": [
              "True"
            ]
          },
          "metadata": {},
          "execution_count": 12
        }
      ]
    },
    {
      "cell_type": "code",
      "source": [
        "# Sample text documents (3 docs)\n",
        "text_data = [\n",
        "    \"\"\"\n",
        "    Dhoni finishes off in style, A magnificient strike into the crowd. Dhoni and co doest it after 28 years.\n",
        "    \"\"\",\n",
        "    \"\"\"\n",
        "    Indian cricket team had its golden reign during the 2007-2013 time period as India won all 3 major ICC trophies in which Dhoni was the captain.\n",
        "    \"\"\",\n",
        "    \"\"\"\n",
        "    Dhoni does it again and again, it doesnt matter how old he gets, he just lives finishing.\n",
        "    \"\"\"\n",
        "]"
      ],
      "metadata": {
        "id": "lbLk7tBnXFqB"
      },
      "execution_count": null,
      "outputs": []
    },
    {
      "cell_type": "code",
      "source": [
        "# Initialize stop words\n",
        "stop_words = set(stopwords.words('english'))"
      ],
      "metadata": {
        "id": "PvHEjVyZX4g5"
      },
      "execution_count": null,
      "outputs": []
    },
    {
      "cell_type": "code",
      "source": [
        "# Create the vocabulary\n",
        "vocab = set()\n"
      ],
      "metadata": {
        "id": "8kL7bFRqYAQV"
      },
      "execution_count": null,
      "outputs": []
    },
    {
      "cell_type": "code",
      "source": [
        "# Create the bag-of-words model\n",
        "bow_model = []"
      ],
      "metadata": {
        "id": "lQD-NaKEYD6A"
      },
      "execution_count": null,
      "outputs": []
    },
    {
      "cell_type": "code",
      "source": [
        "for text in text_data:\n",
        "    # Create a dictionary to store the word counts for each document\n",
        "    word_counts = {}\n",
        "\n",
        "    # Tokenize the text\n",
        "    tokens = word_tokenize(text.lower())  # Convert to lowercase for uniformity\n",
        "\n",
        "    # Filter out stop words and non-alphanumeric tokens\n",
        "    tokens = [word for word in tokens if word.isalnum() and word not in stop_words]\n",
        "\n",
        "    # Update the vocabulary\n",
        "    vocab.update(tokens)\n",
        "\n",
        "    # Count the occurrences of each word\n",
        "    for word in tokens:\n",
        "        if word in word_counts:\n",
        "            word_counts[word] += 1\n",
        "        else:\n",
        "            word_counts[word] = 1\n",
        "\n",
        "    # Add the word counts to the bag-of-words model\n",
        "    bow_model.append(word_counts)\n"
      ],
      "metadata": {
        "id": "YArMBzMFYGg1"
      },
      "execution_count": null,
      "outputs": []
    },
    {
      "cell_type": "code",
      "source": [
        "# Print the vocabulary\n",
        "print(\"Vocabulary:\", vocab)"
      ],
      "metadata": {
        "colab": {
          "base_uri": "https://localhost:8080/"
        },
        "id": "9TRx0HjzYNIX",
        "outputId": "49494190-882f-49a2-d22c-bc5e4f710fa3"
      },
      "execution_count": null,
      "outputs": [
        {
          "output_type": "stream",
          "name": "stdout",
          "text": [
            "Vocabulary: {'crowd', 'team', 'period', 'old', 'dhoni', 'reign', 'indian', 'captain', 'style', 'time', 'trophies', 'doesnt', 'major', 'india', 'gets', 'doest', '3', 'co', '28', 'strike', 'magnificient', 'years', 'lives', 'cricket', 'finishes', 'icc', 'golden', 'matter', 'finishing'}\n"
          ]
        }
      ]
    },
    {
      "cell_type": "code",
      "source": [
        "\n",
        "print(\"\\nWord counts for the first document:\", bow_model[0])\n",
        "print(\"\\nWord counts for the second document:\", bow_model[1])\n",
        "print(\"\\nWord counts for the third document:\", bow_model[2])"
      ],
      "metadata": {
        "colab": {
          "base_uri": "https://localhost:8080/"
        },
        "id": "m0cgIq1WYQZC",
        "outputId": "65dd7643-39a3-4ce0-e7c8-dd988145d80b"
      },
      "execution_count": null,
      "outputs": [
        {
          "output_type": "stream",
          "name": "stdout",
          "text": [
            "\n",
            "Word counts for the first document: {'dhoni': 2, 'finishes': 1, 'style': 1, 'magnificient': 1, 'strike': 1, 'crowd': 1, 'co': 1, 'doest': 1, '28': 1, 'years': 1}\n",
            "\n",
            "Word counts for the second document: {'indian': 1, 'cricket': 1, 'team': 1, 'golden': 1, 'reign': 1, 'time': 1, 'period': 1, 'india': 1, '3': 1, 'major': 1, 'icc': 1, 'trophies': 1, 'dhoni': 1, 'captain': 1}\n",
            "\n",
            "Word counts for the third document: {'dhoni': 1, 'doesnt': 1, 'matter': 1, 'old': 1, 'gets': 1, 'lives': 1, 'finishing': 1}\n"
          ]
        }
      ]
    }
  ]
}