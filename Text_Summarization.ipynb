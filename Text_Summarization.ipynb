{
  "nbformat": 4,
  "nbformat_minor": 0,
  "metadata": {
    "colab": {
      "provenance": [],
      "authorship_tag": "ABX9TyN4JNGAONQ25ywCUg0JlBti",
      "include_colab_link": true
    },
    "kernelspec": {
      "name": "python3",
      "display_name": "Python 3"
    },
    "language_info": {
      "name": "python"
    }
  },
  "cells": [
    {
      "cell_type": "markdown",
      "metadata": {
        "id": "view-in-github",
        "colab_type": "text"
      },
      "source": [
        "<a href=\"https://colab.research.google.com/github/brrikcy/nlp/blob/main/Text_Summarization.ipynb\" target=\"_parent\"><img src=\"https://colab.research.google.com/assets/colab-badge.svg\" alt=\"Open In Colab\"/></a>"
      ]
    },
    {
      "source": [
        "import nltk\n",
        "from nltk.corpus import stopwords\n",
        "from nltk.tokenize import word_tokenize, sent_tokenize\n",
        "import heapq\n",
        "\n",
        "\n",
        "nltk.download('punkt')\n",
        "\n",
        "# Download the 'punkt_tab' data\n",
        "nltk.download('punkt_tab')\n",
        "\n",
        "\n",
        "text = \"\"\"“Come on! It’s starting!” Greg, my neighbor, hollered from the sidewalk.\n",
        "\n",
        "“What’s starting?” I said. Behind him, groups of kids hurried down the street.\n",
        "\n",
        "We’d moved to the neighborhood just weeks before. I was shy; a bookworm, waiting for school to start. Greg was the only kid I’d met.\n",
        "\n",
        "“The magic show!” said Greg, exasperated. “At Mr. Hale’s house!”\n",
        "\n",
        "At the end of the Hales’ dirt driveway, rows of kids were seated on the grass.\n",
        "\n",
        "White-haired and very thin, Mr. Hale wore a black top-hat and tails. In his hand he gripped a wand, producing doves from an urn. He asked for a volunteer to be sawed in half. I raised my hand. No one breathed.\n",
        "\n",
        "“Just relax,” Mr. Hale whispered. “There’s nothing to it.” I got into the box and held my breath.\n",
        "\n",
        "A collective gasp went up. And when I emerged in one piece, I was a star.\"\"\"\n",
        "\n",
        "# Tokenizing the text into words and sentences\n",
        "stopWords = set(stopwords.words(\"english\"))\n",
        "words = word_tokenize(text)\n",
        "\n",
        "# Creating a frequency table to keep the score of each word\n",
        "freqTable = dict()\n",
        "for word in words:\n",
        "    word = word.lower()\n",
        "    if word in stopWords:\n",
        "        continue\n",
        "    if word in freqTable:\n",
        "        freqTable[word] += 1\n",
        "    else:\n",
        "        freqTable[word] = 1\n",
        "\n",
        "# Creating a dictionary to keep the score of each sentence\n",
        "sentences = sent_tokenize(text)\n",
        "sentenceValue = dict()\n",
        "\n",
        "for sentence in sentences:\n",
        "    for word, freq in freqTable.items():\n",
        "        if word in sentence.lower():\n",
        "            if sentence in sentenceValue:\n",
        "                sentenceValue[sentence] += freq\n",
        "            else:\n",
        "                sentenceValue[sentence] = freq\n",
        "\n",
        "# Calculate the average score of a sentence\n",
        "sumValues = 0\n",
        "for sentence in sentenceValue:\n",
        "    sumValues += sentenceValue[sentence]\n",
        "average = int(sumValues / len(sentenceValue))\n",
        "\n",
        "# Storing sentences into our summary based on their score\n",
        "summary = ''\n",
        "for sentence in sentences:\n",
        "    if (sentence in sentenceValue) and (sentenceValue[sentence] > (1.2 * average)):\n",
        "        summary += \" \" + sentence\n",
        "\n",
        "print(\" \\n Summary:\")\n",
        "print(summary)"
      ],
      "cell_type": "code",
      "metadata": {
        "colab": {
          "base_uri": "https://localhost:8080/"
        },
        "id": "dcrSvAWMfJN_",
        "outputId": "78f925be-b627-4d65-b4af-e83776ecceea"
      },
      "execution_count": null,
      "outputs": [
        {
          "output_type": "stream",
          "name": "stdout",
          "text": [
            " \n",
            " Summary:\n",
            " It’s starting!” Greg, my neighbor, hollered from the sidewalk. “What’s starting?” I said. “The magic show!” said Greg, exasperated. “At Mr. Hale’s house!”\n",
            "\n",
            "At the end of the Hales’ dirt driveway, rows of kids were seated on the grass. “Just relax,” Mr. Hale whispered. “There’s nothing to it.” I got into the box and held my breath.\n"
          ]
        },
        {
          "output_type": "stream",
          "name": "stderr",
          "text": [
            "[nltk_data] Downloading package punkt to /root/nltk_data...\n",
            "[nltk_data]   Package punkt is already up-to-date!\n",
            "[nltk_data] Downloading package stopwords to /root/nltk_data...\n",
            "[nltk_data]   Package stopwords is already up-to-date!\n",
            "[nltk_data] Downloading package punkt_tab to /root/nltk_data...\n",
            "[nltk_data]   Package punkt_tab is already up-to-date!\n"
          ]
        }
      ]
    }
  ]
}